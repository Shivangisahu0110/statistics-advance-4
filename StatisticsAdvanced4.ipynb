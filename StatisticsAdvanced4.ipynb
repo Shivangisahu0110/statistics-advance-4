{
 "cells": [
  {
   "cell_type": "markdown",
   "id": "8844a5a3-cffa-469e-9cd1-5854ed66d18e",
   "metadata": {},
   "source": [
    "Q1: What is the difference between a t-test and a z-test? Provide an example scenario where you would\n",
    "use each type of test."
   ]
  },
  {
   "cell_type": "markdown",
   "id": "a7e792b6-b925-46c1-b947-48272663f17c",
   "metadata": {},
   "source": [
    "A z-test is used to test a Null Hypothesis if the population variance is known, or if the sample size is larger than 30, for an unknown population variance. A t-test is used when the sample size is less than 30 and the population variance is unknown."
   ]
  },
  {
   "cell_type": "markdown",
   "id": "32c44183-da39-4c05-b0af-0911d84ecbdb",
   "metadata": {},
   "source": [
    "Q2: Differentiate between one-tailed and two-tailed tests."
   ]
  },
  {
   "cell_type": "markdown",
   "id": "846342f2-0502-4f6f-9d4a-475f98cea95c",
   "metadata": {},
   "source": [
    "One-tailed tests allow for the possibility of an effect in one direction. Two-tailed tests test for the possibility of an effect in two directions—positive and negative. Simple as that concept may seem, there's a lot of controversy around one-tailed vs. two-tailed testing."
   ]
  },
  {
   "cell_type": "markdown",
   "id": "2467762c-5929-4be4-a5c3-93283b478ec3",
   "metadata": {},
   "source": [
    "Q3: Explain the concept of Type 1 and Type 2 errors in hypothesis testing. Provide an example scenario for\n",
    "each type of error."
   ]
  },
  {
   "cell_type": "markdown",
   "id": "39fefa1e-af1b-46ca-8d9f-01a3b7b37577",
   "metadata": {},
   "source": [
    "A type I error (false-positive) occurs if an investigator rejects a null hypothesis that is actually true in the population; a type II error (false-negative) occurs if the investigator fails to reject a null hypothesis that is actually false in the population."
   ]
  },
  {
   "cell_type": "markdown",
   "id": "28880d7f-7640-4950-9416-637d8378ddc5",
   "metadata": {},
   "source": [
    "Example scenario of Type 1 errors:\n",
    "\n",
    "Suppose a pharmaceutical company is testing a new drug for effectiveness in treating a particular condition. The null hypothesis (H0) is that the drug has no effect, while the alternative hypothesis (H1) is that the drug is effective. After conducting the study, if the researchers incorrectly conclude that the drug is effective (rejecting H0) when, in fact, it has no effect, they commit a Type I error.\n",
    "\n",
    "Example scenario of Type 2 errors:\n",
    "\n",
    "Continuing with the example of the pharmaceutical company, if the researchers fail to conclude that the drug is effective (fail to reject H0) when, in fact, it does have a beneficial effect, they commit a Type II error."
   ]
  },
  {
   "cell_type": "markdown",
   "id": "e3dbdfc1-c971-4dfa-a8e1-d4a13a2ae85f",
   "metadata": {},
   "source": [
    "Q4: Explain Bayes's theorem with an example."
   ]
  },
  {
   "cell_type": "markdown",
   "id": "36d2d702-ccf5-41ca-85fd-ca3ec134427a",
   "metadata": {},
   "source": [
    "Bayes’ theorem describes the probability of occurrence of an event related to any condition. It is also considered for the case of conditional probability. Bayes theorem is also known as the formula for the probability of “causes”. For example: if we have to calculate the probability of taking a blue ball from the second bag out of three different bags of balls, where each bag contains three different colour balls viz. red, blue, black. In this case, the probability of occurrence of an event is calculated depending on other conditions is known as conditional probability. \n",
    "\n",
    "P(A|B)= P(B|A)P(A) / P(B)\n",
    "\n",
    "where P(B)!= 0\n",
    "\n",
    "Where P(A|B) is the probability of condition when event A is occurring while event B has already occurred.\n",
    "\n"
   ]
  },
  {
   "cell_type": "markdown",
   "id": "72fe1ccd-1957-45b2-81f8-271b510c80a8",
   "metadata": {},
   "source": [
    "Q5: What is a confidence interval? How to calculate the confidence interval, explain with an example."
   ]
  },
  {
   "cell_type": "markdown",
   "id": "b4b044a0-2dbc-4edc-931c-5b3924187b1f",
   "metadata": {},
   "source": [
    "A confidence interval is a range of values derived from sample data that is likely to contain the true population parameter with a certain level of confidence. It provides a measure of the uncertainty or precision associated with estimating a population parameter, such as the population mean or proportion.\n",
    "\n",
    "The calculation of a confidence interval involves three main components:\n",
    "\n",
    "Sample Data,Point Estimate,Margin of Error.\n",
    "\n",
    "Here's a general formula for calculating a confidence interval for a population mean (assuming the population standard deviation is unknown):\n",
    "\n",
    "Confidence Interval = Point Estimate ± (Critical Value × Standard Error)\n",
    "\n",
    "where:\n",
    "\n",
    "Point Estimate is the sample mean.\n",
    " \n",
    "Critical Value is determined based on the desired level of confidence and the distribution of the data (e.g., z-score for a normal distribution, t-score for a t-distribution).\n",
    "\n",
    "Standard Error is the standard deviation of the sample divided by the square root of the sample size.\n",
    "\n",
    "Example:\n",
    "Suppose we want to estimate the average height of adult males in a city. We take a random sample of 50 adult males and find that the sample mean height is 175 cm, with a sample standard deviation of 10 cm. We want to calculate a 95% confidence interval for the population mean height.\n",
    "\n",
    "Confidence Interval = 175 ± (1.96 × 1.41)\n",
    "\n",
    "Confidence Interval=175±2.76 = 177.76cms\n",
    "\n",
    "So, the 95% confidence interval for the average height of adult males in the city is approximately (172.24,177.76)cms. This means that we are 95% confident that the true population mean height lies within this interval."
   ]
  },
  {
   "cell_type": "markdown",
   "id": "42cee23a-1cd7-4390-bec3-87a2ac9ac0a2",
   "metadata": {},
   "source": [
    "Q6. Use Bayes' Theorem to calculate the probability of an event occurring given prior knowledge of the\n",
    "event's probability and new evidence. Provide a sample problem and solution."
   ]
  },
  {
   "cell_type": "markdown",
   "id": "7226ba3e-af2f-4e74-a1f7-60aee1ee3360",
   "metadata": {},
   "source": [
    "Baye's Theorem formula:\n",
    "\n",
    "P(A|B)= P(B|A)P(A) / P(B)\n",
    "\n",
    "Problem:\n",
    "\n",
    "Suppose a factory produces light bulbs, and there are two machines, Machine A and Machine B, that produce these bulbs. Historically, Machine A produces 60% of the bulbs, while Machine B produces 40%. Machine A produces 5% defective bulbs, while Machine B produces 3% defective bulbs. If a randomly selected bulb is defective, what is the probability that it came from Machine A?\n",
    "\n",
    "Given:\n",
    "\n",
    "P(A)=0.60 (prior probability that the bulb came from Machine A)\n",
    "\n",
    "P(B∣A)=0.05 (probability that the bulb is defective given that it came from Machine A)\n",
    "\n",
    "P(B)=P(B∣A)×P(A)+P(B∣A)×P(A) (total probability of the bulb being defective)\n",
    "\n",
    "Substituting the given values into the formula:\n",
    "\n",
    "P(B)=(0.05×0.60)+(0.03×0.40)\n",
    "\n",
    "P(B)=0.03+0.012\n",
    "\n",
    "P(B)=0.042\n",
    "\n",
    "Now, applying Bayes' Theorem:\n",
    "\n",
    "P(A∣B) = P(B∣A)×P(A)/P(B)\n",
    "\n",
    "P(A∣B) = 0.05×0.60 / 0.042 = 0.03/0.042\n",
    "\n",
    "P(A∣B)≈ 0.714\n",
    "\n",
    "Therefore, the probability that a defective bulb came from Machine A is approximately 0.714 or 71.4%.\n",
    "\n"
   ]
  },
  {
   "cell_type": "markdown",
   "id": "4147c41f-bfd8-498e-9de2-d7654736ebde",
   "metadata": {},
   "source": [
    "Q7. Calculate the 95% confidence interval for a sample of data with a mean of 50 and a standard deviation\n",
    "of 5. Interpret the results."
   ]
  },
  {
   "cell_type": "markdown",
   "id": "83f075a4-1e97-4729-b07b-24e633aeb447",
   "metadata": {},
   "source": [
    "Confidence Interval= Sample Mean ± (Z-Score * Population Standard Deviation /sqrt(Sample Size) )\n",
    "\n",
    "Sample Mean = 50\n",
    "\n",
    "Population Standard Deviation = 5\n",
    "\n",
    "Z-Score = 1.96 (for a 95% confidence level)\n",
    "\n",
    "Sample Size = Not provided (assuming a sufficiently large sample size)\n",
    "\n",
    "Substituting the given values into the formula:\n",
    "\n",
    "Confidence Interval = 50 ± (1.96 * 5/sqrt(Sample Size) )\n",
    "\n",
    "Since the sample size is not provided, we cannot directly calculate the confidence interval without knowing it. However, if the sample size is sufficiently large (typically considered to be at least 30)\n"
   ]
  },
  {
   "cell_type": "markdown",
   "id": "35ada8c5-3d2d-41ad-b15b-298dab609f6b",
   "metadata": {},
   "source": [
    "Q8. What is the margin of error in a confidence interval? How does sample size affect the margin of error?\n",
    "Provide an example of a scenario where a larger sample size would result in a smaller margin of error."
   ]
  },
  {
   "cell_type": "markdown",
   "id": "f4532a8c-7701-4cec-8f31-4c77b5d36382",
   "metadata": {},
   "source": [
    "The margin of error in a confidence interval is a measure of the precision or uncertainty associated with estimating a population parameter (such as the population mean or proportion) based on sample data. It represents the amount by which the sample statistic (e.g., sample mean or proportion) may differ from the true population parameter.\n",
    "\n",
    "Larger Sample Size: When the sample size increases, the margin of error decreases. \n",
    "\n",
    "Smaller Sample Size: Conversely, when the sample size decreases, the margin of error increases\n",
    "\n",
    "\n",
    "Example:\n",
    "\n",
    "Consider a scenario where a polling agency wants to estimate the proportion of voters in a city who support a particular candidate. They conduct two separate surveys with different sample sizes:\n",
    "\n",
    "Survey A: Sample size of 1000 voters\n",
    "\n",
    "Survey B: Sample size of 5000 voters\n",
    "\n",
    "Assuming both surveys are conducted with the same methodology and have the same level of confidence (e.g., 95% confidence level), Survey B (with the larger sample size) would have a smaller margin of error compared to Survey A."
   ]
  },
  {
   "cell_type": "markdown",
   "id": "f760eb01-d4cc-4d53-b8b7-5c122b2aeab0",
   "metadata": {},
   "source": [
    "Q9. Calculate the z-score for a data point with a value of 75, a population mean of 70, and a population\n",
    "standard deviation of 5. Interpret the results."
   ]
  },
  {
   "cell_type": "markdown",
   "id": "b0bd3587-2289-430f-8d5f-ecd4dde98f4c",
   "metadata": {},
   "source": [
    "Z = X−μ / σ\n",
    "\n",
    "Where:\n",
    "    \n",
    "X is the value of the data point.\n",
    "\n",
    "μ is the population mean.\n",
    "\n",
    "σ is the population standard deviation.\n",
    "\n",
    "Z = 75 - 70 / 5 = 5/5 =1\n",
    "\n",
    "z = 1\n",
    "\n"
   ]
  },
  {
   "cell_type": "markdown",
   "id": "2bd0c167-b393-4c37-a4de-999f07ad4fb1",
   "metadata": {},
   "source": [
    "Q10. In a study of the effectiveness of a new weight loss drug, a sample of 50 participants lost an average\n",
    "of 6 pounds with a standard deviation of 2.5 pounds. Conduct a hypothesis test to determine if the drug is\n",
    "significantly effective at a 95% confidence level using a t-test."
   ]
  },
  {
   "cell_type": "markdown",
   "id": "04dd67dd-afed-4232-b4e4-c34b71716ac3",
   "metadata": {},
   "source": [
    "n = 50 \n",
    "sample mean = 6 pound\n",
    "std = 2.5 pound\n",
    "μ0 = 0 pounds\n",
    "\n",
    "Null Hypothesis (h0) : The mean weight loss (μ) with the new drug is equal to zero pounds.\n",
    "\n",
    "Alternative Hypothesis (h1): The mean weight loss (μ) with the new drug is not equal to zero pounds.\n",
    "\n",
    "\n",
    "t = (sample mean−μ0) /(std / sqrt(n))\n",
    "\n",
    "t = 6/(2.5/sqrt(50))\n",
    "\n",
    "t = 6/0.3536\n",
    "\n",
    "t = 16.97\n",
    "\n",
    "t test for n−1 = 49 degrees of freedom and significance value =0.05/2 = 0.025 is ±2.009.\n",
    "\n",
    "Since , 16.97 > 2.009 we reject the null hypothesis.\n"
   ]
  },
  {
   "cell_type": "markdown",
   "id": "52ade0a8-4b1d-407e-a706-09782336e3b0",
   "metadata": {},
   "source": [
    "Q11. In a survey of 500 people, 65% reported being satisfied with their current job. Calculate the 95%\n",
    "confidence interval for the true proportion of people who are satisfied with their job."
   ]
  },
  {
   "cell_type": "markdown",
   "id": "83bf1b47-971d-462c-8425-02c81c16978b",
   "metadata": {},
   "source": [
    "Confidence Interval= p ±Z * sqrt (p(1−p)/n)\n",
    "\n",
    "Given:\n",
    "\n",
    "Sample proportion (p) = 0.65 (65%)\n",
    "\n",
    "Sample size (n) = 500\n",
    "\n",
    "Confidence Interval =0.65 ± 1.96 × sqrt(0.65×(1−0.65)/500)\n",
    "\n",
    "\n",
    "Confidence Interval =0.65 ± 1.96 × sqrt(0.65×0.35/500)\n",
    "\n",
    "Confidence Interval =0.65 ± 1.96 × sqrt(0.2275/500)\n",
    "\n",
    "Confidence Interval=0.65 ± 1.96 × 0.000455\n",
    "\n",
    "Confidence Interval=0.65 ± 0.0418\n",
    "\n",
    "So, the 95% confidence interval for the true proportion of people who are satisfied with their job is approximately \n",
    "(0.6082,0.6918). This means that we are 95% confident that the true proportion of satisfied individuals lies within this interval."
   ]
  },
  {
   "cell_type": "markdown",
   "id": "2203f5aa-5ad7-4e58-b2fa-a3adb7fa765e",
   "metadata": {},
   "source": [
    "Q13. A population has a mean of 60 and a standard deviation of 8. A sample of 50 observations has a mean\n",
    "of 65. Calculate the 90% confidence interval for the true population mean."
   ]
  },
  {
   "cell_type": "markdown",
   "id": "b8bc7c9a-4a28-4d84-8fe8-2328f2926735",
   "metadata": {},
   "source": [
    "Confidence Interval = Sample Mean ± (Z-Score * Population Standard Deviation /sqrt(Sample Size) )\n",
    "\n",
    "Sample mean  = 65\n",
    "\n",
    "Population mean  = 60\n",
    "\n",
    "Population standard deviation  = 8\n",
    "\n",
    "Sample size  = 50\n",
    "\n",
    "Substituting the given values into the formula:\n",
    "\n",
    "Confidence Interval=65 ± 1.645 × 8 /sqrt(50)\n",
    "\n",
    "Confidence Interval=65 ± 1.645 × 1.131 \n",
    "\n",
    "Confidence Interval= 65 ± 1.857\n",
    "\n",
    "So, the 90% confidence interval for the true population mean is approximately (63.143,66.857). This means that we are 90% confident that the true population mean lies within this interval."
   ]
  },
  {
   "cell_type": "markdown",
   "id": "7104a90a-6c1a-4b33-8991-bfef8a7944ed",
   "metadata": {},
   "source": [
    "Q14. In a study of the effects of caffeine on reaction time, a sample of 30 participants had an average\n",
    "reaction time of 0.25 seconds with a standard deviation of 0.05 seconds. Conduct a hypothesis test to\n",
    "determine if the caffeine has a significant effect on reaction time at a 90% confidence level using a t-test."
   ]
  },
  {
   "cell_type": "markdown",
   "id": "404aa37c-f749-4d46-96fd-e387a0d5e5e8",
   "metadata": {},
   "source": [
    "Null Hypothesis (h0): The mean reaction time with caffeine (μ) is equal to the population mean reaction time (μ0)\n",
    "\n",
    "Alternative Hypothesis (h1) : The mean reaction time with caffeine (μ) is not equal to the population mean reaction time (μ0).\n",
    "\n",
    "significance level of 0.10 ( 90% confidence level).\n",
    "\n",
    "n = 30\n",
    "\n",
    "Sample mean = 0.25 seconds\n",
    "\n",
    "std = 0.05 seconds\n",
    "\n",
    "Population mean under the null hypothesis (μ0) = Not provided so we assume it 0.\n",
    "\n",
    "t = (sample mean−μ0) /(std / sqrt(n))\n",
    "\n",
    "t = 0.25 - 0 / (0.05/sqrt (30))\n",
    "\n",
    "t= 0.25/ (0.05/5.48)\n",
    "\n",
    "t = 0.25 / 0/0091\n",
    "\n",
    "t = 27.47\n",
    "\n",
    "critical t-value for a two-tailed test with 0.05 and 29 degrees of freedom is approximately ±1.699\n",
    "\n",
    "Since ∣t∣=27.47 > 1.699, we reject the null hypothesis."
   ]
  },
  {
   "cell_type": "code",
   "execution_count": null,
   "id": "fd37b411-3b94-4e88-be49-b6c46082eec2",
   "metadata": {},
   "outputs": [],
   "source": []
  }
 ],
 "metadata": {
  "kernelspec": {
   "display_name": "Python 3 (ipykernel)",
   "language": "python",
   "name": "python3"
  },
  "language_info": {
   "codemirror_mode": {
    "name": "ipython",
    "version": 3
   },
   "file_extension": ".py",
   "mimetype": "text/x-python",
   "name": "python",
   "nbconvert_exporter": "python",
   "pygments_lexer": "ipython3",
   "version": "3.10.8"
  }
 },
 "nbformat": 4,
 "nbformat_minor": 5
}
